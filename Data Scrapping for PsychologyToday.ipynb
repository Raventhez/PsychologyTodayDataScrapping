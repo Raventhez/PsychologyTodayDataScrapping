{
 "cells": [
  {
   "cell_type": "code",
   "execution_count": 4,
   "id": "92419e8b",
   "metadata": {},
   "outputs": [],
   "source": [
    "#!pip install selenium\n",
    "import os\n",
    "from selenium import webdriver\n",
    "from selenium.webdriver.common.by import By\n",
    "from selenium.webdriver.support.ui import WebDriverWait\n",
    "from selenium.webdriver.support import expected_conditions as EC\n",
    "import time\n",
    "import random\n",
    "import lxml\n",
    "import pandas as pd\n",
    "from bs4 import BeautifulSoup\n",
    "import re"
   ]
  },
  {
   "cell_type": "code",
   "execution_count": 2,
   "id": "5bd7ea41",
   "metadata": {},
   "outputs": [
    {
     "name": "stdout",
     "output_type": "stream",
     "text": [
      "True\n"
     ]
    }
   ],
   "source": [
    "print(os.path.exists(r'C:\\Users\\max10\\Downloads'))"
   ]
  },
  {
   "cell_type": "code",
   "execution_count": 81,
   "id": "f512fc32",
   "metadata": {
    "scrolled": true
   },
   "outputs": [
    {
     "name": "stderr",
     "output_type": "stream",
     "text": [
      "C:\\Users\\max10\\AppData\\Local\\Temp\\ipykernel_20808\\3423540718.py:2: DeprecationWarning: executable_path has been deprecated, please pass in a Service object\n",
      "  driver = webdriver.Chrome(r'C:\\Users\\max10\\Downloads\\chromedriver.exe')\n"
     ]
    }
   ],
   "source": [
    "url = 'https://www.psychologytoday.com/us/therapists?search=pittsburgh'\n",
    "driver = webdriver.Chrome(r'C:\\Users\\max10\\Downloads\\chromedriver.exe')\n",
    "driver.get(url) \n",
    "soup = BeautifulSoup(driver.page_source,'lxml') #grab the content with beautifulsoup for parsing\n",
    "#main_table = soup.findAll('a', {'class':'profile-title verified'})\n",
    "#table=[]\n",
    "#for n in main_table:\n",
    "    #print(n.get_text(strip=True, separator='\\n'))\n",
    "   # table.append(n.get_text(strip=True, separator='\\n'))\n"
   ]
  },
  {
   "cell_type": "code",
   "execution_count": 58,
   "id": "6296d5a9",
   "metadata": {},
   "outputs": [],
   "source": [
    "urltherapist=soup.find_all('a', attrs={'href': re.compile(\"^https://\"),'class' : 'results-row-image'})\n",
    "urltable=[]\n",
    "for n in urltherapist:\n",
    "    urltable.append(n.get('href'))\n",
    "#for link in soup.find_all('a', \n",
    "   #                       attrs={'href': re.compile(\"^https://\"),'class' : 'results-row-image'}):\n",
    "    # display the actual urls\n",
    "   # print(link.get('href'))  "
   ]
  },
  {
   "cell_type": "code",
   "execution_count": 92,
   "id": "beaa670e",
   "metadata": {},
   "outputs": [
    {
     "ename": "IndentationError",
     "evalue": "unexpected indent (3693100472.py, line 16)",
     "output_type": "error",
     "traceback": [
      "\u001b[1;36m  File \u001b[1;32m\"C:\\Users\\max10\\AppData\\Local\\Temp\\ipykernel_20808\\3693100472.py\"\u001b[1;36m, line \u001b[1;32m16\u001b[0m\n\u001b[1;33m    print(m.find('strong').get_text())\u001b[0m\n\u001b[1;37m    ^\u001b[0m\n\u001b[1;31mIndentationError\u001b[0m\u001b[1;31m:\u001b[0m unexpected indent\n"
     ]
    }
   ],
   "source": [
    "def stripdatafromurl(url):\n",
    "    driver = webdriver.Chrome(r'C:\\Users\\max10\\Downloads\\chromedriver.exe')\n",
    "    #print(url)\n",
    "    driver.get(url) \n",
    "    soup = BeautifulSoup(driver.page_source,'lxml') #grab the content with beautifulsoup for parsing\n",
    "    name_table =soup.find('h1')\n",
    "    #print(name_table)\n",
    "    main_table = soup.findAll('div', {'class':'statementPara'})\n",
    "    finance_table = soup.findAll('div', {'class':'finances-office'})\n",
    "    #print(finance_table)\n",
    "    table=[]\n",
    "    namestripped=[]\n",
    "    finance=[]\n",
    "    for m in finance_table:\n",
    "         finance=m.find('strong').get_text()\n",
    "            print(m.find('strong').get_text())\n",
    "    for n in main_table:\n",
    "        #print(n.get_text(strip=True, separator='\\n'))\n",
    "        table.append(n.get_text(strip=True, separator='\\n'))\n",
    "        #need to collect names alongside the bio\n",
    "    namestripped.append(name_table.get_text(strip=True, separator='\\n'))\n",
    "    #print(name_table.get_text(strip=True, separator='\\n'))\n",
    "              \n",
    "    return [namestripped, table]\n",
    "\n",
    "    "
   ]
  },
  {
   "cell_type": "code",
   "execution_count": 138,
   "id": "6756f929",
   "metadata": {},
   "outputs": [
    {
     "name": "stdout",
     "output_type": "stream",
     "text": [
      "<div class=\"spec-subcat attributes-payment-method\">\n",
      "<span class=\"h5\">Pay By:</span>\n",
      "<span>American Express</span><span>, Cash</span><span>, Check</span><span>, Discover</span><span>, Health Savings Account</span><span>, Mastercard</span><span>, Visa</span>\n",
      "</div>\n",
      "['American Express', 'Cash', 'Check', 'Discover', 'Health Savings Account', 'Mastercard', 'Visa']\n",
      "['BlueCross and BlueShield', 'Medicaid', 'Medical Assistance', 'University of Pittsburgh Medical Center']\n"
     ]
    }
   ],
   "source": [
    "driver.get(\"https://www.psychologytoday.com/us/therapists/scott-windham-pittsburgh-pa/58254\") \n",
    "soup = BeautifulSoup(driver.page_source,'lxml')\n",
    "finance_table = soup.findAll('div', {'class':'finances-office'})\n",
    "insurance_table = soup.find('ul', {'class':'attribute-list copy-small'})\n",
    "payment_table=soup.find('div', {'class':'spec-subcat attributes-payment-method'})\n",
    "\n",
    "print(payment_table)\n",
    "financeinformation=[]\n",
    "insuranceinformation=[]\n",
    "paymentinformation=[]\n",
    "#print(finance_table)\n",
    "for p in payment_table:\n",
    "    paymentinformation.append((p.get_text(strip=True, separator='\\n').replace(',', '').lstrip()))\n",
    "paymentinformation = list(filter(None, paymentinformation))\n",
    "paymentinformation.pop(0)\n",
    "#print(paymentinformation)\n",
    "for k in insurance_table:\n",
    "    insuranceinformation.append(k.get_text(strip=True, separator='\\n'))\n",
    "insuranceinformation = list(filter(None, insuranceinformation))\n",
    "#print(insuranceinformation)\n",
    "\n",
    "for n in finance_table:\n",
    "    finance=n.findAll('li')\n",
    "    for j in finance:\n",
    "        financeinformation.append(j.get_text(strip=True, separator='\\n'))\n",
    "        \n"
   ]
  },
  {
   "cell_type": "code",
   "execution_count": 118,
   "id": "4f02f034",
   "metadata": {},
   "outputs": [
    {
     "name": "stdout",
     "output_type": "stream",
     "text": [
      "['Cost per Session:\\n$70 - $150', 'Sliding Scale:\\nYes', 'BlueCross and BlueShield', 'Medicaid', 'Medical Assistance', 'University of Pittsburgh Medical Center']\n"
     ]
    }
   ],
   "source": [
    "print(financeinformation)"
   ]
  },
  {
   "cell_type": "code",
   "execution_count": 93,
   "id": "a83082a4",
   "metadata": {},
   "outputs": [
    {
     "name": "stderr",
     "output_type": "stream",
     "text": [
      "C:\\Users\\max10\\AppData\\Local\\Temp\\ipykernel_20808\\4037166375.py:2: DeprecationWarning: executable_path has been deprecated, please pass in a Service object\n",
      "  driver = webdriver.Chrome(r'C:\\Users\\max10\\Downloads\\chromedriver.exe')\n"
     ]
    },
    {
     "name": "stdout",
     "output_type": "stream",
     "text": [
      "[<div class=\"finances-office\">\n",
      "<ul>\n",
      "<li>\n",
      "<strong>Cost per Session:</strong> $175\n",
      "            </li>\n",
      "</ul>\n",
      "<div class=\"spec-subcat attributes-payment-method\">\n",
      "<span class=\"h5\">Pay By:</span>\n",
      "<span>Cash</span><span>, Check</span><span>, Paypal</span>\n",
      "</div>\n",
      "<div class=\"profile-content\">\n",
      "<div class=\"specialties-column\">\n",
      "<div class=\"spec-list attributes-insurance\">\n",
      "<h5 class=\"spec-subcat\">Accepted Insurance Plans</h5>\n",
      "<div class=\"col-split-xs-1 col-split-md-2\">\n",
      "<ul class=\"attribute-list copy-small\">\n",
      "<li class=\"\">\n",
      "                                                            Aetna\n",
      "                                                    </li>\n",
      "<li class=\"\">\n",
      "                                                            Anthem\n",
      "                                                    </li>\n",
      "<li class=\"\">\n",
      "                                                            Blue Cross\n",
      "                                                    </li>\n",
      "<li class=\"\">\n",
      "                                                            Blue Shield\n",
      "                                                    </li>\n",
      "<li class=\"\">\n",
      "                                                            BlueCross and BlueShield\n",
      "                                                    </li>\n",
      "<li class=\"\">\n",
      "                                                            Capital Blue Cross\n",
      "                                                    </li>\n",
      "<li class=\"\">\n",
      "                                                            Empire BlueCross BlueShield\n",
      "                                                    </li>\n",
      "<li class=\"\">\n",
      "                                                            Highmark\n",
      "                                                    </li>\n",
      "<li class=\"\">\n",
      "                                                            Independence Blue Cross\n",
      "                                                    </li>\n",
      "<li class=\"\">\n",
      "                                                            Optum\n",
      "                                                    </li>\n",
      "<li class=\"\">\n",
      "                                                            Private fee for service\n",
      "                                                    </li>\n",
      "<li class=\"\">\n",
      "                                                            UnitedHealthcare UHC | UBH\n",
      "                                                    </li>\n",
      "<li class=\"\">\n",
      "                                                            University of Pittsburgh Medical Center\n",
      "                                                    </li>\n",
      "<li class=\"\">\n",
      "                                                            Out of Network\n",
      "                                                    </li>\n",
      "</ul>\n",
      "</div>\n",
      "</div>\n",
      "</div>\n",
      "</div>\n",
      "<div class=\"profile-verify-ins\">\n",
      "                            Tele-medicine sessions only\n",
      "                <div class=\"profile-insurance-quote-actions\">\n",
      "<a data-action-url=\"https://www.psychologytoday.com/us/profile/119193/contact\" data-element-target=\"#profileContainer\" data-event-label=\"VerifyInsurance_EmailLink\" data-target=\"#modalContactForm\" data-toggle=\"modal\" href=\"#\" rel=\"nofollow\">Email me</a> or call (412) 593-2307 with questions.\n",
      "                                    </div>\n",
      "</div>\n",
      "</div>]\n",
      "[<div class=\"finances-office\">\n",
      "<ul>\n",
      "<li>\n",
      "<strong>Cost per Session:</strong> $155 - $185\n",
      "            </li>\n",
      "</ul>\n",
      "<div class=\"spec-subcat attributes-payment-method\">\n",
      "<span class=\"h5\">Pay By:</span>\n",
      "<span>American Express</span><span>, Cash</span><span>, Check</span><span>, Health Savings Account</span><span>, Mastercard</span><span>, Visa</span>\n",
      "</div>\n",
      "<div class=\"profile-content\">\n",
      "<div class=\"specialties-column\">\n",
      "<div class=\"spec-list attributes-insurance\">\n",
      "<h5 class=\"spec-subcat\">Accepted Insurance Plans</h5>\n",
      "<div class=\"col-split-xs-1 col-split-md-2\">\n",
      "<ul class=\"attribute-list copy-small\">\n",
      "<li class=\"\">\n",
      "                                                            Cigna and Evernorth\n",
      "                                                    </li>\n",
      "<li class=\"\">\n",
      "                                                            University of Pittsburgh Medical Center\n",
      "                                                    </li>\n",
      "</ul>\n",
      "</div>\n",
      "</div>\n",
      "</div>\n",
      "</div>\n",
      "<div class=\"profile-verify-ins\">\n",
      "                                            Verify your health insurance coverage when you <a data-action-url=\"https://www.psychologytoday.com/us/profile/376901/contact\" data-element-target=\"#profileContainer\" data-event-label=\"VerifyInsurance_EmailLink\" data-target=\"#modalContactForm\" data-toggle=\"modal\" href=\"#\" rel=\"nofollow\">arrange your first visit</a>.\n",
      "                    </div>\n",
      "</div>]\n",
      "[<div class=\"finances-office\">\n",
      "<ul>\n",
      "<li>\n",
      "<strong>Cost per Session:</strong> $50 - $130\n",
      "            </li>\n",
      "<li>\n",
      "<strong>Sliding Scale:</strong> Yes\n",
      "            </li>\n",
      "</ul>\n",
      "<div class=\"spec-subcat attributes-payment-method\">\n",
      "<span class=\"h5\">Pay By:</span>\n",
      "<span>American Express</span><span>, Cash</span><span>, Check</span><span>, Discover</span><span>, Health Savings Account</span><span>, Mastercard</span><span>, Paypal</span><span>, Visa</span>\n",
      "</div>\n",
      "<div class=\"profile-content\">\n",
      "<div class=\"specialties-column\">\n",
      "<div class=\"spec-list attributes-insurance\">\n",
      "<h5 class=\"spec-subcat\">Accepted Insurance Plans</h5>\n",
      "<div class=\"col-split-xs-1 col-split-md-2\">\n",
      "<ul class=\"attribute-list copy-small\">\n",
      "<li class=\"\">\n",
      "                                                            Aetna\n",
      "                                                    </li>\n",
      "<li class=\"\">\n",
      "                                                            Anthem\n",
      "                                                    </li>\n",
      "<li class=\"\">\n",
      "                                                            Beacon Health Options\n",
      "                                                    </li>\n",
      "<li class=\"\">\n",
      "                                                            BlueCross and BlueShield\n",
      "                                                    </li>\n",
      "<li class=\"\">\n",
      "                                                            ComPsych\n",
      "                                                    </li>\n",
      "<li class=\"\">\n",
      "                                                            E4Health\n",
      "                                                    </li>\n",
      "<li class=\"\">\n",
      "                                                            Empire BlueCross BlueShield\n",
      "                                                    </li>\n",
      "<li class=\"\">\n",
      "                                                            Highmark\n",
      "                                                    </li>\n",
      "<li class=\"\">\n",
      "                                                            Humana\n",
      "                                                    </li>\n",
      "<li class=\"\">\n",
      "                                                            MHNet Behavioral Health\n",
      "                                                    </li>\n",
      "<li class=\"\">\n",
      "                                                            MultiPlan\n",
      "                                                    </li>\n",
      "<li class=\"\">\n",
      "                                                            Optum\n",
      "                                                    </li>\n",
      "<li class=\"\">\n",
      "                                                            UnitedHealthcare UHC | UBH\n",
      "                                                    </li>\n",
      "<li class=\"\">\n",
      "                                                            University of Pittsburgh Medical Center\n",
      "                                                    </li>\n",
      "</ul>\n",
      "</div>\n",
      "</div>\n",
      "</div>\n",
      "</div>\n",
      "<div class=\"profile-verify-ins\">\n",
      "                                            Verify your health insurance coverage when you arrange your first visit.\n",
      "                    </div>\n",
      "</div>]\n"
     ]
    },
    {
     "name": "stderr",
     "output_type": "stream",
     "text": [
      "Exception ignored in: <function Service.__del__ at 0x000001888F659310>\n",
      "Traceback (most recent call last):\n",
      "  File \"C:\\Users\\max10\\anaconda3\\lib\\site-packages\\selenium\\webdriver\\common\\service.py\", line 170, in __del__\n",
      "    self.stop()\n",
      "  File \"C:\\Users\\max10\\anaconda3\\lib\\site-packages\\selenium\\webdriver\\common\\service.py\", line 145, in stop\n",
      "    self.send_remote_shutdown_command()\n",
      "  File \"C:\\Users\\max10\\anaconda3\\lib\\site-packages\\selenium\\webdriver\\common\\service.py\", line 127, in send_remote_shutdown_command\n",
      "    if not self.is_connectable():\n",
      "  File \"C:\\Users\\max10\\anaconda3\\lib\\site-packages\\selenium\\webdriver\\common\\service.py\", line 116, in is_connectable\n",
      "    return utils.is_connectable(self.port)\n",
      "  File \"C:\\Users\\max10\\anaconda3\\lib\\site-packages\\selenium\\webdriver\\common\\utils.py\", line 107, in is_connectable\n",
      "    socket_ = socket.create_connection((host, port), 1)\n",
      "  File \"C:\\Users\\max10\\anaconda3\\lib\\socket.py\", line 832, in create_connection\n",
      "    sock.connect(sa)\n",
      "KeyboardInterrupt: \n"
     ]
    },
    {
     "name": "stdout",
     "output_type": "stream",
     "text": [
      "[<div class=\"finances-office\">\n",
      "<ul>\n",
      "<li>\n",
      "<strong>Cost per Session:</strong> $200 - $250\n",
      "            </li>\n",
      "</ul>\n",
      "<div class=\"spec-subcat attributes-payment-method\">\n",
      "<span class=\"h5\">Pay By:</span>\n",
      "<span>American Express</span><span>, Cash</span><span>, Check</span><span>, Discover</span><span>, Mastercard</span><span>, Visa</span>\n",
      "</div>\n",
      "<div class=\"profile-content\">\n",
      "<div class=\"specialties-column\">\n",
      "<div class=\"spec-list attributes-insurance\">\n",
      "<h5 class=\"spec-subcat\">Accepted Insurance Plans</h5>\n",
      "<div class=\"col-split-xs-1 col-split-md-2\">\n",
      "<ul class=\"attribute-list copy-small\">\n",
      "<li class=\"\">\n",
      "                                                            Aetna\n",
      "                                                    </li>\n",
      "<li class=\"\">\n",
      "                                                            Anthem\n",
      "                                                    </li>\n",
      "<li class=\"\">\n",
      "                                                            BlueCross and BlueShield\n",
      "                                                    </li>\n",
      "<li class=\"\">\n",
      "                                                            Business Health Services (BHS)\n",
      "                                                    </li>\n",
      "<li class=\"\">\n",
      "                                                            E4Health\n",
      "                                                    </li>\n",
      "<li class=\"\">\n",
      "                                                            Highmark\n",
      "                                                    </li>\n",
      "<li class=\"\">\n",
      "                                                            Life Solutions EAP\n",
      "                                                    </li>\n",
      "<li class=\"\">\n",
      "                                                            New Directions\n",
      "                                                    </li>\n",
      "<li class=\"\">\n",
      "                                                            Spring Health\n",
      "                                                    </li>\n",
      "<li class=\"\">\n",
      "                                                            University of Pittsburgh Medical Center\n",
      "                                                    </li>\n",
      "</ul>\n",
      "</div>\n",
      "</div>\n",
      "</div>\n",
      "</div>\n",
      "<div class=\"profile-verify-ins\">\n",
      "                                            Verify your health insurance coverage when you <a data-action-url=\"https://www.psychologytoday.com/us/profile/332125/contact\" data-element-target=\"#profileContainer\" data-event-label=\"VerifyInsurance_EmailLink\" data-target=\"#modalContactForm\" data-toggle=\"modal\" href=\"#\" rel=\"nofollow\">arrange your first visit</a>.\n",
      "                    </div>\n",
      "</div>]\n"
     ]
    },
    {
     "ename": "KeyboardInterrupt",
     "evalue": "",
     "output_type": "error",
     "traceback": [
      "\u001b[1;31m---------------------------------------------------------------------------\u001b[0m",
      "\u001b[1;31mKeyboardInterrupt\u001b[0m                         Traceback (most recent call last)",
      "\u001b[1;32m~\\AppData\\Local\\Temp\\ipykernel_20808\\2258051298.py\u001b[0m in \u001b[0;36m<module>\u001b[1;34m\u001b[0m\n\u001b[0;32m      1\u001b[0m \u001b[0mbio\u001b[0m\u001b[1;33m=\u001b[0m\u001b[1;33m[\u001b[0m\u001b[1;33m]\u001b[0m\u001b[1;33m\u001b[0m\u001b[1;33m\u001b[0m\u001b[0m\n\u001b[0;32m      2\u001b[0m \u001b[1;32mfor\u001b[0m \u001b[0mn\u001b[0m \u001b[1;32min\u001b[0m \u001b[0murltable\u001b[0m\u001b[1;33m:\u001b[0m\u001b[1;33m\u001b[0m\u001b[1;33m\u001b[0m\u001b[0m\n\u001b[1;32m----> 3\u001b[1;33m     \u001b[0mdata\u001b[0m\u001b[1;33m=\u001b[0m\u001b[0mstripdatafromurl\u001b[0m\u001b[1;33m(\u001b[0m\u001b[0mn\u001b[0m\u001b[1;33m)\u001b[0m\u001b[1;33m\u001b[0m\u001b[1;33m\u001b[0m\u001b[0m\n\u001b[0m\u001b[0;32m      4\u001b[0m     \u001b[0mbio\u001b[0m\u001b[1;33m.\u001b[0m\u001b[0mappend\u001b[0m\u001b[1;33m(\u001b[0m\u001b[0mdata\u001b[0m\u001b[1;33m)\u001b[0m\u001b[1;33m\u001b[0m\u001b[1;33m\u001b[0m\u001b[0m\n",
      "\u001b[1;32m~\\AppData\\Local\\Temp\\ipykernel_20808\\4037166375.py\u001b[0m in \u001b[0;36mstripdatafromurl\u001b[1;34m(url)\u001b[0m\n\u001b[0;32m      2\u001b[0m     \u001b[0mdriver\u001b[0m \u001b[1;33m=\u001b[0m \u001b[0mwebdriver\u001b[0m\u001b[1;33m.\u001b[0m\u001b[0mChrome\u001b[0m\u001b[1;33m(\u001b[0m\u001b[1;34mr'C:\\Users\\max10\\Downloads\\chromedriver.exe'\u001b[0m\u001b[1;33m)\u001b[0m\u001b[1;33m\u001b[0m\u001b[1;33m\u001b[0m\u001b[0m\n\u001b[0;32m      3\u001b[0m     \u001b[1;31m#print(url)\u001b[0m\u001b[1;33m\u001b[0m\u001b[1;33m\u001b[0m\u001b[0m\n\u001b[1;32m----> 4\u001b[1;33m     \u001b[0mdriver\u001b[0m\u001b[1;33m.\u001b[0m\u001b[0mget\u001b[0m\u001b[1;33m(\u001b[0m\u001b[0murl\u001b[0m\u001b[1;33m)\u001b[0m\u001b[1;33m\u001b[0m\u001b[1;33m\u001b[0m\u001b[0m\n\u001b[0m\u001b[0;32m      5\u001b[0m     \u001b[0msoup\u001b[0m \u001b[1;33m=\u001b[0m \u001b[0mBeautifulSoup\u001b[0m\u001b[1;33m(\u001b[0m\u001b[0mdriver\u001b[0m\u001b[1;33m.\u001b[0m\u001b[0mpage_source\u001b[0m\u001b[1;33m,\u001b[0m\u001b[1;34m'lxml'\u001b[0m\u001b[1;33m)\u001b[0m \u001b[1;31m#grab the content with beautifulsoup for parsing\u001b[0m\u001b[1;33m\u001b[0m\u001b[1;33m\u001b[0m\u001b[0m\n\u001b[0;32m      6\u001b[0m     \u001b[0mname_table\u001b[0m \u001b[1;33m=\u001b[0m\u001b[0msoup\u001b[0m\u001b[1;33m.\u001b[0m\u001b[0mfind\u001b[0m\u001b[1;33m(\u001b[0m\u001b[1;34m'h1'\u001b[0m\u001b[1;33m)\u001b[0m\u001b[1;33m\u001b[0m\u001b[1;33m\u001b[0m\u001b[0m\n",
      "\u001b[1;32m~\\anaconda3\\lib\\site-packages\\selenium\\webdriver\\remote\\webdriver.py\u001b[0m in \u001b[0;36mget\u001b[1;34m(self, url)\u001b[0m\n\u001b[0;32m    439\u001b[0m         \u001b[0mLoads\u001b[0m \u001b[0ma\u001b[0m \u001b[0mweb\u001b[0m \u001b[0mpage\u001b[0m \u001b[1;32min\u001b[0m \u001b[0mthe\u001b[0m \u001b[0mcurrent\u001b[0m \u001b[0mbrowser\u001b[0m \u001b[0msession\u001b[0m\u001b[1;33m.\u001b[0m\u001b[1;33m\u001b[0m\u001b[1;33m\u001b[0m\u001b[0m\n\u001b[0;32m    440\u001b[0m         \"\"\"\n\u001b[1;32m--> 441\u001b[1;33m         \u001b[0mself\u001b[0m\u001b[1;33m.\u001b[0m\u001b[0mexecute\u001b[0m\u001b[1;33m(\u001b[0m\u001b[0mCommand\u001b[0m\u001b[1;33m.\u001b[0m\u001b[0mGET\u001b[0m\u001b[1;33m,\u001b[0m \u001b[1;33m{\u001b[0m\u001b[1;34m'url'\u001b[0m\u001b[1;33m:\u001b[0m \u001b[0murl\u001b[0m\u001b[1;33m}\u001b[0m\u001b[1;33m)\u001b[0m\u001b[1;33m\u001b[0m\u001b[1;33m\u001b[0m\u001b[0m\n\u001b[0m\u001b[0;32m    442\u001b[0m \u001b[1;33m\u001b[0m\u001b[0m\n\u001b[0;32m    443\u001b[0m     \u001b[1;33m@\u001b[0m\u001b[0mproperty\u001b[0m\u001b[1;33m\u001b[0m\u001b[1;33m\u001b[0m\u001b[0m\n",
      "\u001b[1;32m~\\anaconda3\\lib\\site-packages\\selenium\\webdriver\\remote\\webdriver.py\u001b[0m in \u001b[0;36mexecute\u001b[1;34m(self, driver_command, params)\u001b[0m\n\u001b[0;32m    425\u001b[0m \u001b[1;33m\u001b[0m\u001b[0m\n\u001b[0;32m    426\u001b[0m         \u001b[0mparams\u001b[0m \u001b[1;33m=\u001b[0m \u001b[0mself\u001b[0m\u001b[1;33m.\u001b[0m\u001b[0m_wrap_value\u001b[0m\u001b[1;33m(\u001b[0m\u001b[0mparams\u001b[0m\u001b[1;33m)\u001b[0m\u001b[1;33m\u001b[0m\u001b[1;33m\u001b[0m\u001b[0m\n\u001b[1;32m--> 427\u001b[1;33m         \u001b[0mresponse\u001b[0m \u001b[1;33m=\u001b[0m \u001b[0mself\u001b[0m\u001b[1;33m.\u001b[0m\u001b[0mcommand_executor\u001b[0m\u001b[1;33m.\u001b[0m\u001b[0mexecute\u001b[0m\u001b[1;33m(\u001b[0m\u001b[0mdriver_command\u001b[0m\u001b[1;33m,\u001b[0m \u001b[0mparams\u001b[0m\u001b[1;33m)\u001b[0m\u001b[1;33m\u001b[0m\u001b[1;33m\u001b[0m\u001b[0m\n\u001b[0m\u001b[0;32m    428\u001b[0m         \u001b[1;32mif\u001b[0m \u001b[0mresponse\u001b[0m\u001b[1;33m:\u001b[0m\u001b[1;33m\u001b[0m\u001b[1;33m\u001b[0m\u001b[0m\n\u001b[0;32m    429\u001b[0m             \u001b[0mself\u001b[0m\u001b[1;33m.\u001b[0m\u001b[0merror_handler\u001b[0m\u001b[1;33m.\u001b[0m\u001b[0mcheck_response\u001b[0m\u001b[1;33m(\u001b[0m\u001b[0mresponse\u001b[0m\u001b[1;33m)\u001b[0m\u001b[1;33m\u001b[0m\u001b[1;33m\u001b[0m\u001b[0m\n",
      "\u001b[1;32m~\\anaconda3\\lib\\site-packages\\selenium\\webdriver\\remote\\remote_connection.py\u001b[0m in \u001b[0;36mexecute\u001b[1;34m(self, command, params)\u001b[0m\n\u001b[0;32m    342\u001b[0m         \u001b[0mdata\u001b[0m \u001b[1;33m=\u001b[0m \u001b[0mutils\u001b[0m\u001b[1;33m.\u001b[0m\u001b[0mdump_json\u001b[0m\u001b[1;33m(\u001b[0m\u001b[0mparams\u001b[0m\u001b[1;33m)\u001b[0m\u001b[1;33m\u001b[0m\u001b[1;33m\u001b[0m\u001b[0m\n\u001b[0;32m    343\u001b[0m         \u001b[0murl\u001b[0m \u001b[1;33m=\u001b[0m \u001b[1;34mf\"{self._url}{path}\"\u001b[0m\u001b[1;33m\u001b[0m\u001b[1;33m\u001b[0m\u001b[0m\n\u001b[1;32m--> 344\u001b[1;33m         \u001b[1;32mreturn\u001b[0m \u001b[0mself\u001b[0m\u001b[1;33m.\u001b[0m\u001b[0m_request\u001b[0m\u001b[1;33m(\u001b[0m\u001b[0mcommand_info\u001b[0m\u001b[1;33m[\u001b[0m\u001b[1;36m0\u001b[0m\u001b[1;33m]\u001b[0m\u001b[1;33m,\u001b[0m \u001b[0murl\u001b[0m\u001b[1;33m,\u001b[0m \u001b[0mbody\u001b[0m\u001b[1;33m=\u001b[0m\u001b[0mdata\u001b[0m\u001b[1;33m)\u001b[0m\u001b[1;33m\u001b[0m\u001b[1;33m\u001b[0m\u001b[0m\n\u001b[0m\u001b[0;32m    345\u001b[0m \u001b[1;33m\u001b[0m\u001b[0m\n\u001b[0;32m    346\u001b[0m     \u001b[1;32mdef\u001b[0m \u001b[0m_request\u001b[0m\u001b[1;33m(\u001b[0m\u001b[0mself\u001b[0m\u001b[1;33m,\u001b[0m \u001b[0mmethod\u001b[0m\u001b[1;33m,\u001b[0m \u001b[0murl\u001b[0m\u001b[1;33m,\u001b[0m \u001b[0mbody\u001b[0m\u001b[1;33m=\u001b[0m\u001b[1;32mNone\u001b[0m\u001b[1;33m)\u001b[0m\u001b[1;33m:\u001b[0m\u001b[1;33m\u001b[0m\u001b[1;33m\u001b[0m\u001b[0m\n",
      "\u001b[1;32m~\\anaconda3\\lib\\site-packages\\selenium\\webdriver\\remote\\remote_connection.py\u001b[0m in \u001b[0;36m_request\u001b[1;34m(self, method, url, body)\u001b[0m\n\u001b[0;32m    364\u001b[0m \u001b[1;33m\u001b[0m\u001b[0m\n\u001b[0;32m    365\u001b[0m         \u001b[1;32mif\u001b[0m \u001b[0mself\u001b[0m\u001b[1;33m.\u001b[0m\u001b[0mkeep_alive\u001b[0m\u001b[1;33m:\u001b[0m\u001b[1;33m\u001b[0m\u001b[1;33m\u001b[0m\u001b[0m\n\u001b[1;32m--> 366\u001b[1;33m             \u001b[0mresponse\u001b[0m \u001b[1;33m=\u001b[0m \u001b[0mself\u001b[0m\u001b[1;33m.\u001b[0m\u001b[0m_conn\u001b[0m\u001b[1;33m.\u001b[0m\u001b[0mrequest\u001b[0m\u001b[1;33m(\u001b[0m\u001b[0mmethod\u001b[0m\u001b[1;33m,\u001b[0m \u001b[0murl\u001b[0m\u001b[1;33m,\u001b[0m \u001b[0mbody\u001b[0m\u001b[1;33m=\u001b[0m\u001b[0mbody\u001b[0m\u001b[1;33m,\u001b[0m \u001b[0mheaders\u001b[0m\u001b[1;33m=\u001b[0m\u001b[0mheaders\u001b[0m\u001b[1;33m)\u001b[0m\u001b[1;33m\u001b[0m\u001b[1;33m\u001b[0m\u001b[0m\n\u001b[0m\u001b[0;32m    367\u001b[0m             \u001b[0mstatuscode\u001b[0m \u001b[1;33m=\u001b[0m \u001b[0mresponse\u001b[0m\u001b[1;33m.\u001b[0m\u001b[0mstatus\u001b[0m\u001b[1;33m\u001b[0m\u001b[1;33m\u001b[0m\u001b[0m\n\u001b[0;32m    368\u001b[0m         \u001b[1;32melse\u001b[0m\u001b[1;33m:\u001b[0m\u001b[1;33m\u001b[0m\u001b[1;33m\u001b[0m\u001b[0m\n",
      "\u001b[1;32m~\\anaconda3\\lib\\site-packages\\urllib3\\request.py\u001b[0m in \u001b[0;36mrequest\u001b[1;34m(self, method, url, fields, headers, **urlopen_kw)\u001b[0m\n\u001b[0;32m     76\u001b[0m             )\n\u001b[0;32m     77\u001b[0m         \u001b[1;32melse\u001b[0m\u001b[1;33m:\u001b[0m\u001b[1;33m\u001b[0m\u001b[1;33m\u001b[0m\u001b[0m\n\u001b[1;32m---> 78\u001b[1;33m             return self.request_encode_body(\n\u001b[0m\u001b[0;32m     79\u001b[0m                 \u001b[0mmethod\u001b[0m\u001b[1;33m,\u001b[0m \u001b[0murl\u001b[0m\u001b[1;33m,\u001b[0m \u001b[0mfields\u001b[0m\u001b[1;33m=\u001b[0m\u001b[0mfields\u001b[0m\u001b[1;33m,\u001b[0m \u001b[0mheaders\u001b[0m\u001b[1;33m=\u001b[0m\u001b[0mheaders\u001b[0m\u001b[1;33m,\u001b[0m \u001b[1;33m**\u001b[0m\u001b[0murlopen_kw\u001b[0m\u001b[1;33m\u001b[0m\u001b[1;33m\u001b[0m\u001b[0m\n\u001b[0;32m     80\u001b[0m             )\n",
      "\u001b[1;32m~\\anaconda3\\lib\\site-packages\\urllib3\\request.py\u001b[0m in \u001b[0;36mrequest_encode_body\u001b[1;34m(self, method, url, fields, headers, encode_multipart, multipart_boundary, **urlopen_kw)\u001b[0m\n\u001b[0;32m    168\u001b[0m         \u001b[0mextra_kw\u001b[0m\u001b[1;33m.\u001b[0m\u001b[0mupdate\u001b[0m\u001b[1;33m(\u001b[0m\u001b[0murlopen_kw\u001b[0m\u001b[1;33m)\u001b[0m\u001b[1;33m\u001b[0m\u001b[1;33m\u001b[0m\u001b[0m\n\u001b[0;32m    169\u001b[0m \u001b[1;33m\u001b[0m\u001b[0m\n\u001b[1;32m--> 170\u001b[1;33m         \u001b[1;32mreturn\u001b[0m \u001b[0mself\u001b[0m\u001b[1;33m.\u001b[0m\u001b[0murlopen\u001b[0m\u001b[1;33m(\u001b[0m\u001b[0mmethod\u001b[0m\u001b[1;33m,\u001b[0m \u001b[0murl\u001b[0m\u001b[1;33m,\u001b[0m \u001b[1;33m**\u001b[0m\u001b[0mextra_kw\u001b[0m\u001b[1;33m)\u001b[0m\u001b[1;33m\u001b[0m\u001b[1;33m\u001b[0m\u001b[0m\n\u001b[0m",
      "\u001b[1;32m~\\anaconda3\\lib\\site-packages\\urllib3\\poolmanager.py\u001b[0m in \u001b[0;36murlopen\u001b[1;34m(self, method, url, redirect, **kw)\u001b[0m\n\u001b[0;32m    374\u001b[0m             \u001b[0mresponse\u001b[0m \u001b[1;33m=\u001b[0m \u001b[0mconn\u001b[0m\u001b[1;33m.\u001b[0m\u001b[0murlopen\u001b[0m\u001b[1;33m(\u001b[0m\u001b[0mmethod\u001b[0m\u001b[1;33m,\u001b[0m \u001b[0murl\u001b[0m\u001b[1;33m,\u001b[0m \u001b[1;33m**\u001b[0m\u001b[0mkw\u001b[0m\u001b[1;33m)\u001b[0m\u001b[1;33m\u001b[0m\u001b[1;33m\u001b[0m\u001b[0m\n\u001b[0;32m    375\u001b[0m         \u001b[1;32melse\u001b[0m\u001b[1;33m:\u001b[0m\u001b[1;33m\u001b[0m\u001b[1;33m\u001b[0m\u001b[0m\n\u001b[1;32m--> 376\u001b[1;33m             \u001b[0mresponse\u001b[0m \u001b[1;33m=\u001b[0m \u001b[0mconn\u001b[0m\u001b[1;33m.\u001b[0m\u001b[0murlopen\u001b[0m\u001b[1;33m(\u001b[0m\u001b[0mmethod\u001b[0m\u001b[1;33m,\u001b[0m \u001b[0mu\u001b[0m\u001b[1;33m.\u001b[0m\u001b[0mrequest_uri\u001b[0m\u001b[1;33m,\u001b[0m \u001b[1;33m**\u001b[0m\u001b[0mkw\u001b[0m\u001b[1;33m)\u001b[0m\u001b[1;33m\u001b[0m\u001b[1;33m\u001b[0m\u001b[0m\n\u001b[0m\u001b[0;32m    377\u001b[0m \u001b[1;33m\u001b[0m\u001b[0m\n\u001b[0;32m    378\u001b[0m         \u001b[0mredirect_location\u001b[0m \u001b[1;33m=\u001b[0m \u001b[0mredirect\u001b[0m \u001b[1;32mand\u001b[0m \u001b[0mresponse\u001b[0m\u001b[1;33m.\u001b[0m\u001b[0mget_redirect_location\u001b[0m\u001b[1;33m(\u001b[0m\u001b[1;33m)\u001b[0m\u001b[1;33m\u001b[0m\u001b[1;33m\u001b[0m\u001b[0m\n",
      "\u001b[1;32m~\\anaconda3\\lib\\site-packages\\urllib3\\connectionpool.py\u001b[0m in \u001b[0;36murlopen\u001b[1;34m(self, method, url, body, headers, retries, redirect, assert_same_host, timeout, pool_timeout, release_conn, chunked, body_pos, **response_kw)\u001b[0m\n\u001b[0;32m    701\u001b[0m \u001b[1;33m\u001b[0m\u001b[0m\n\u001b[0;32m    702\u001b[0m             \u001b[1;31m# Make the request on the httplib connection object.\u001b[0m\u001b[1;33m\u001b[0m\u001b[1;33m\u001b[0m\u001b[0m\n\u001b[1;32m--> 703\u001b[1;33m             httplib_response = self._make_request(\n\u001b[0m\u001b[0;32m    704\u001b[0m                 \u001b[0mconn\u001b[0m\u001b[1;33m,\u001b[0m\u001b[1;33m\u001b[0m\u001b[1;33m\u001b[0m\u001b[0m\n\u001b[0;32m    705\u001b[0m                 \u001b[0mmethod\u001b[0m\u001b[1;33m,\u001b[0m\u001b[1;33m\u001b[0m\u001b[1;33m\u001b[0m\u001b[0m\n",
      "\u001b[1;32m~\\anaconda3\\lib\\site-packages\\urllib3\\connectionpool.py\u001b[0m in \u001b[0;36m_make_request\u001b[1;34m(self, conn, method, url, timeout, chunked, **httplib_request_kw)\u001b[0m\n\u001b[0;32m    447\u001b[0m                     \u001b[1;31m# Python 3 (including for exceptions like SystemExit).\u001b[0m\u001b[1;33m\u001b[0m\u001b[1;33m\u001b[0m\u001b[0m\n\u001b[0;32m    448\u001b[0m                     \u001b[1;31m# Otherwise it looks like a bug in the code.\u001b[0m\u001b[1;33m\u001b[0m\u001b[1;33m\u001b[0m\u001b[0m\n\u001b[1;32m--> 449\u001b[1;33m                     \u001b[0msix\u001b[0m\u001b[1;33m.\u001b[0m\u001b[0mraise_from\u001b[0m\u001b[1;33m(\u001b[0m\u001b[0me\u001b[0m\u001b[1;33m,\u001b[0m \u001b[1;32mNone\u001b[0m\u001b[1;33m)\u001b[0m\u001b[1;33m\u001b[0m\u001b[1;33m\u001b[0m\u001b[0m\n\u001b[0m\u001b[0;32m    450\u001b[0m         \u001b[1;32mexcept\u001b[0m \u001b[1;33m(\u001b[0m\u001b[0mSocketTimeout\u001b[0m\u001b[1;33m,\u001b[0m \u001b[0mBaseSSLError\u001b[0m\u001b[1;33m,\u001b[0m \u001b[0mSocketError\u001b[0m\u001b[1;33m)\u001b[0m \u001b[1;32mas\u001b[0m \u001b[0me\u001b[0m\u001b[1;33m:\u001b[0m\u001b[1;33m\u001b[0m\u001b[1;33m\u001b[0m\u001b[0m\n\u001b[0;32m    451\u001b[0m             \u001b[0mself\u001b[0m\u001b[1;33m.\u001b[0m\u001b[0m_raise_timeout\u001b[0m\u001b[1;33m(\u001b[0m\u001b[0merr\u001b[0m\u001b[1;33m=\u001b[0m\u001b[0me\u001b[0m\u001b[1;33m,\u001b[0m \u001b[0murl\u001b[0m\u001b[1;33m=\u001b[0m\u001b[0murl\u001b[0m\u001b[1;33m,\u001b[0m \u001b[0mtimeout_value\u001b[0m\u001b[1;33m=\u001b[0m\u001b[0mread_timeout\u001b[0m\u001b[1;33m)\u001b[0m\u001b[1;33m\u001b[0m\u001b[1;33m\u001b[0m\u001b[0m\n",
      "\u001b[1;32m~\\anaconda3\\lib\\site-packages\\urllib3\\packages\\six.py\u001b[0m in \u001b[0;36mraise_from\u001b[1;34m(value, from_value)\u001b[0m\n",
      "\u001b[1;32m~\\anaconda3\\lib\\site-packages\\urllib3\\connectionpool.py\u001b[0m in \u001b[0;36m_make_request\u001b[1;34m(self, conn, method, url, timeout, chunked, **httplib_request_kw)\u001b[0m\n\u001b[0;32m    442\u001b[0m                 \u001b[1;31m# Python 3\u001b[0m\u001b[1;33m\u001b[0m\u001b[1;33m\u001b[0m\u001b[0m\n\u001b[0;32m    443\u001b[0m                 \u001b[1;32mtry\u001b[0m\u001b[1;33m:\u001b[0m\u001b[1;33m\u001b[0m\u001b[1;33m\u001b[0m\u001b[0m\n\u001b[1;32m--> 444\u001b[1;33m                     \u001b[0mhttplib_response\u001b[0m \u001b[1;33m=\u001b[0m \u001b[0mconn\u001b[0m\u001b[1;33m.\u001b[0m\u001b[0mgetresponse\u001b[0m\u001b[1;33m(\u001b[0m\u001b[1;33m)\u001b[0m\u001b[1;33m\u001b[0m\u001b[1;33m\u001b[0m\u001b[0m\n\u001b[0m\u001b[0;32m    445\u001b[0m                 \u001b[1;32mexcept\u001b[0m \u001b[0mBaseException\u001b[0m \u001b[1;32mas\u001b[0m \u001b[0me\u001b[0m\u001b[1;33m:\u001b[0m\u001b[1;33m\u001b[0m\u001b[1;33m\u001b[0m\u001b[0m\n\u001b[0;32m    446\u001b[0m                     \u001b[1;31m# Remove the TypeError from the exception chain in\u001b[0m\u001b[1;33m\u001b[0m\u001b[1;33m\u001b[0m\u001b[0m\n",
      "\u001b[1;32m~\\anaconda3\\lib\\http\\client.py\u001b[0m in \u001b[0;36mgetresponse\u001b[1;34m(self)\u001b[0m\n\u001b[0;32m   1375\u001b[0m         \u001b[1;32mtry\u001b[0m\u001b[1;33m:\u001b[0m\u001b[1;33m\u001b[0m\u001b[1;33m\u001b[0m\u001b[0m\n\u001b[0;32m   1376\u001b[0m             \u001b[1;32mtry\u001b[0m\u001b[1;33m:\u001b[0m\u001b[1;33m\u001b[0m\u001b[1;33m\u001b[0m\u001b[0m\n\u001b[1;32m-> 1377\u001b[1;33m                 \u001b[0mresponse\u001b[0m\u001b[1;33m.\u001b[0m\u001b[0mbegin\u001b[0m\u001b[1;33m(\u001b[0m\u001b[1;33m)\u001b[0m\u001b[1;33m\u001b[0m\u001b[1;33m\u001b[0m\u001b[0m\n\u001b[0m\u001b[0;32m   1378\u001b[0m             \u001b[1;32mexcept\u001b[0m \u001b[0mConnectionError\u001b[0m\u001b[1;33m:\u001b[0m\u001b[1;33m\u001b[0m\u001b[1;33m\u001b[0m\u001b[0m\n\u001b[0;32m   1379\u001b[0m                 \u001b[0mself\u001b[0m\u001b[1;33m.\u001b[0m\u001b[0mclose\u001b[0m\u001b[1;33m(\u001b[0m\u001b[1;33m)\u001b[0m\u001b[1;33m\u001b[0m\u001b[1;33m\u001b[0m\u001b[0m\n",
      "\u001b[1;32m~\\anaconda3\\lib\\http\\client.py\u001b[0m in \u001b[0;36mbegin\u001b[1;34m(self)\u001b[0m\n\u001b[0;32m    318\u001b[0m         \u001b[1;31m# read until we get a non-100 response\u001b[0m\u001b[1;33m\u001b[0m\u001b[1;33m\u001b[0m\u001b[0m\n\u001b[0;32m    319\u001b[0m         \u001b[1;32mwhile\u001b[0m \u001b[1;32mTrue\u001b[0m\u001b[1;33m:\u001b[0m\u001b[1;33m\u001b[0m\u001b[1;33m\u001b[0m\u001b[0m\n\u001b[1;32m--> 320\u001b[1;33m             \u001b[0mversion\u001b[0m\u001b[1;33m,\u001b[0m \u001b[0mstatus\u001b[0m\u001b[1;33m,\u001b[0m \u001b[0mreason\u001b[0m \u001b[1;33m=\u001b[0m \u001b[0mself\u001b[0m\u001b[1;33m.\u001b[0m\u001b[0m_read_status\u001b[0m\u001b[1;33m(\u001b[0m\u001b[1;33m)\u001b[0m\u001b[1;33m\u001b[0m\u001b[1;33m\u001b[0m\u001b[0m\n\u001b[0m\u001b[0;32m    321\u001b[0m             \u001b[1;32mif\u001b[0m \u001b[0mstatus\u001b[0m \u001b[1;33m!=\u001b[0m \u001b[0mCONTINUE\u001b[0m\u001b[1;33m:\u001b[0m\u001b[1;33m\u001b[0m\u001b[1;33m\u001b[0m\u001b[0m\n\u001b[0;32m    322\u001b[0m                 \u001b[1;32mbreak\u001b[0m\u001b[1;33m\u001b[0m\u001b[1;33m\u001b[0m\u001b[0m\n",
      "\u001b[1;32m~\\anaconda3\\lib\\http\\client.py\u001b[0m in \u001b[0;36m_read_status\u001b[1;34m(self)\u001b[0m\n\u001b[0;32m    279\u001b[0m \u001b[1;33m\u001b[0m\u001b[0m\n\u001b[0;32m    280\u001b[0m     \u001b[1;32mdef\u001b[0m \u001b[0m_read_status\u001b[0m\u001b[1;33m(\u001b[0m\u001b[0mself\u001b[0m\u001b[1;33m)\u001b[0m\u001b[1;33m:\u001b[0m\u001b[1;33m\u001b[0m\u001b[1;33m\u001b[0m\u001b[0m\n\u001b[1;32m--> 281\u001b[1;33m         \u001b[0mline\u001b[0m \u001b[1;33m=\u001b[0m \u001b[0mstr\u001b[0m\u001b[1;33m(\u001b[0m\u001b[0mself\u001b[0m\u001b[1;33m.\u001b[0m\u001b[0mfp\u001b[0m\u001b[1;33m.\u001b[0m\u001b[0mreadline\u001b[0m\u001b[1;33m(\u001b[0m\u001b[0m_MAXLINE\u001b[0m \u001b[1;33m+\u001b[0m \u001b[1;36m1\u001b[0m\u001b[1;33m)\u001b[0m\u001b[1;33m,\u001b[0m \u001b[1;34m\"iso-8859-1\"\u001b[0m\u001b[1;33m)\u001b[0m\u001b[1;33m\u001b[0m\u001b[1;33m\u001b[0m\u001b[0m\n\u001b[0m\u001b[0;32m    282\u001b[0m         \u001b[1;32mif\u001b[0m \u001b[0mlen\u001b[0m\u001b[1;33m(\u001b[0m\u001b[0mline\u001b[0m\u001b[1;33m)\u001b[0m \u001b[1;33m>\u001b[0m \u001b[0m_MAXLINE\u001b[0m\u001b[1;33m:\u001b[0m\u001b[1;33m\u001b[0m\u001b[1;33m\u001b[0m\u001b[0m\n\u001b[0;32m    283\u001b[0m             \u001b[1;32mraise\u001b[0m \u001b[0mLineTooLong\u001b[0m\u001b[1;33m(\u001b[0m\u001b[1;34m\"status line\"\u001b[0m\u001b[1;33m)\u001b[0m\u001b[1;33m\u001b[0m\u001b[1;33m\u001b[0m\u001b[0m\n",
      "\u001b[1;32m~\\anaconda3\\lib\\socket.py\u001b[0m in \u001b[0;36mreadinto\u001b[1;34m(self, b)\u001b[0m\n\u001b[0;32m    702\u001b[0m         \u001b[1;32mwhile\u001b[0m \u001b[1;32mTrue\u001b[0m\u001b[1;33m:\u001b[0m\u001b[1;33m\u001b[0m\u001b[1;33m\u001b[0m\u001b[0m\n\u001b[0;32m    703\u001b[0m             \u001b[1;32mtry\u001b[0m\u001b[1;33m:\u001b[0m\u001b[1;33m\u001b[0m\u001b[1;33m\u001b[0m\u001b[0m\n\u001b[1;32m--> 704\u001b[1;33m                 \u001b[1;32mreturn\u001b[0m \u001b[0mself\u001b[0m\u001b[1;33m.\u001b[0m\u001b[0m_sock\u001b[0m\u001b[1;33m.\u001b[0m\u001b[0mrecv_into\u001b[0m\u001b[1;33m(\u001b[0m\u001b[0mb\u001b[0m\u001b[1;33m)\u001b[0m\u001b[1;33m\u001b[0m\u001b[1;33m\u001b[0m\u001b[0m\n\u001b[0m\u001b[0;32m    705\u001b[0m             \u001b[1;32mexcept\u001b[0m \u001b[0mtimeout\u001b[0m\u001b[1;33m:\u001b[0m\u001b[1;33m\u001b[0m\u001b[1;33m\u001b[0m\u001b[0m\n\u001b[0;32m    706\u001b[0m                 \u001b[0mself\u001b[0m\u001b[1;33m.\u001b[0m\u001b[0m_timeout_occurred\u001b[0m \u001b[1;33m=\u001b[0m \u001b[1;32mTrue\u001b[0m\u001b[1;33m\u001b[0m\u001b[1;33m\u001b[0m\u001b[0m\n",
      "\u001b[1;31mKeyboardInterrupt\u001b[0m: "
     ]
    }
   ],
   "source": [
    "bio=[]\n",
    "for n in urltable:\n",
    "    data=stripdatafromurl(n)\n",
    "    bio.append(data)"
   ]
  },
  {
   "cell_type": "code",
   "execution_count": 76,
   "id": "00426169",
   "metadata": {},
   "outputs": [
    {
     "name": "stdout",
     "output_type": "stream",
     "text": [
      "[[['Katherine Hammond Holtz'], ['I enjoy working with individuals who are interested in promoting well-being in themselves and in relation to others. Mindfulness instruction is available as a key component of my therapy should this focus be desired. Studies have shown that a regular practice of mindfulness supports an enriched experience of life, feelings of well being, better ability to cope with stress and pain, reduced panic, anxiety, and fear and better concentration. I currently only offer tele-health, accessible from the comfort of your own home or office.', \"A mindfulness practitioner since 1986, I began developing the application of mindfulness for specialty disorders in 1997 for clients (anxiety, panic, Attention Deficit Disorders, concussion, Parkinson's, Multiple Sclerosis, and other cognitive and neurological disorders). This work has been highly successful and rewarding.\", 'I am a warm and caring professional who spends the time required with each client. I am a certified Mindfulness-Based Stress Reduction teacher and ordained by Teacher Thich Nhat Hanh. I offer psychological tele-testing for select disorders, e.g., ADHD. I currently do not offer comprehensive neuropsychological in-person testing due to the pandemic.']], [['Avia Benzion'], ['Through 19 years of practice I have found that people usually seek therapy because they are experiencing something that is too difficult to bear without additional help and support. Life can seem unjust when bad things happen to good people, or when best efforts are not leading to desired outcomes. These challenges are opportunities for renewal and growth. Especially during a time of crisis or transition, the ability to safely connect and openly share thoughts and feelings, while receiving genuine emotional support, clarifying insights, and effective tools for coping can be truly life changing.  This is the gift of therapy.', 'I specialize in treating trauma, anxiety and obsessive compulsive disorders (such as OCD, tic disorders, hair pulling, skin picking and hoarding). To most effectively help clients achieve their goals, I use evidence-based treatment models (ERP, HRT, CBT and EMDR).', \"Research tells us that the therapeutic relationship is a critical factor in determining outcomes, so finding a therapist who is right for you is key. Call for a free phone consultation so that you can interview me and decide if I'm a good fit.  HIPAA compliant telehealth (confidential live video chat) therapy sessions available.\"]], [['Ivan L Lambert'], ['I provide a Wellness approach focusing improving quality of life, and working through the emotional blocks that stop emotional & spiritual growth.  I bring almost 40 plus years of experience towards a large variety of life issues. Using Heart-Centered therapies - working a soul level, informed by Positive Psychology/Clean Language, I help clients tap into resources found deep within that strive to surface for resolution, wholeness and health.', \"We will work together to find freedom from negative patterns of thoughts,  feelings and behaviors. Together we will explore healthy living.  Using hypnotherapy we can go back, undo and re-make those negative experiences that have gotten in the way of living from your 'Real Self'. Using Clean Language - We will explore your internal landscape of metaphors.\", 'My style not only uses heart-centered hypnotherapy, it is also informed by Clean Language. Transpersonal Life Coaching is also part of my wellness & growth process.']], [['Vincent Michael Reginella'], ['I provide counseling, cognitive rehabilitation, and vocational guidance to individuals who have sustained neurological trauma, including concussion and traumatic brain injury (TBI). I work alongside athletes with improving their mental health and athletic performance. I work with students struggling with academic performance and pressure. I also administer neuropsychological assessments. In addition to cognitive rehabilitation and TBI, I also specialize in neuropsychological rehabilitation, life transitions, vocational outcome, coping, anxiety, depression, stress, self-esteem, and performance enhancement.', 'Services focus on executive functions, including organization, decision-making, problem-solving, planning, motivation, attention, impulsivity and memory. Cultivating and maintaining emotional wellbeing is a treatment priority. I help with solving problems and enhancing performance.', 'I bring a passionate approach to all mental health needs and concerns. With a background in athletics, I have years of experience in creating mindsets that yield consistent results for success for students, athletes, and anyone looking to improve their performance in life. I focus on maximizing the chances of success for my clients in every aspect of life.']], [['Scott Windham'], [\"I specialize in helping adults  who are dealing with issues of Depression and Anxiety. This includes those who engage in cutting themselves and other self destructive behaviors.   If you are struggling with feelings of sadness, hopelessness, excessive worry, having panic attacks, or just can't seem to deal with the stress in your life I can help you. Many times people feel that there is no hope and that things can't get better, however, I strongly believe that they can and have seen it happen countless times. You too CAN feel better!\", 'I have years of experience helping those with depression and anxiety I believe that everyone has within themselves the potential to heal and grow. For many people, entering therapy can seem frightening. I work with people in a  non-judgemental manner to help them find happiness and peace in their lives.', 'I have evening and weekend appointments available and am currently accepting new clients. My office is located conveniently in the South Hills.  I maintain my office as a quiet and contemplative environment with pleasant lighting and a large aquarium.']], [['Jamie Herstek'], ['Not accepting new clients at this time. My focus is to work alongside you, as an individual, your adolescent, or your family as a whole. I believe in the importance of looking through a wide lens to discuss what has happened during your lifetime, rather than what is “wrong” with you in this moment. Our experiences shape how we think, feel, and behave and our teamwork in therapy can provide a safe and judgement-free space to confront these experiences and achieve goals.', 'We will collaborate on identifying and achieving goal in order to create change. Challenges, including trauma, questioning your sexuality or gender, relationship concerns, or conflict within the home can be difficult to manage alone. within our therapy, we can develop skill to better manage thoughts, behaviors, and emotions.', 'I believe in the importance of a non-judgement space, acceptance, inclusion, and validation. I believe you will find my style of therapy will validate and empower you in order to flourish in your chosen path. Feel free to contact me to determine if we are a good fit, as the therapeutic relationship is a critical foundation.']], [['Dr. Fawn T. Robinson'], ['Profile Updated 10/26/22 - (Accepting New Clients) - Counseling empowers your soul, builds your esteem, and jumpstarts your spirit. Mahogany Counseling & Consulting, LLC builds the strength within by providing individual counseling, couples counseling, career counseling, and career planning for adults, young adults, college-aged students, and athletes. Our clients are committed and motivated to make positive changes in their lives and see the future as the next step in living their best self. Our goal is to assist clients find the strength within themselves as we provide them with a safe and non-judgmental environment.', 'I support and help my clients navigate the challenges in their lives (life traumas, transitions, relationships, anxiety, feeling down, loss, and career distress). I practice from a multicultural perspective and recognize the impact of unresolved trauma on the mental health of individuals and relationships.', 'What should you do next? Set up a free 15 min. initial phone consultation (used to determine if I can provide the services needed to assist you). Schedule a phone consultation by scheduling at mahoganycounseling.clientsecure.me. Sessions are available weekdays (Wed-Fri) and evenings (Wed & Thurs). Visit our website for details.']], [['Maria Del Toro'], ['I strongly believe that you are the expert of your own life and that everyone always has the answers and solutions. Sometimes, however, we might need some help finding those answers and solutions for ourselves. My goal as a therapist is to be the guiding post that can help you find your answers, to help you with relationships, and to provide you with the tools you need. As a therapist, I work toward making you feel comfortable, safe, and heard. I focus on validating your experiences, encouraging you to speak your thoughts and to recognize what it is that you want out of your life and what may (or may not) stand in your way.', 'Our work together will be based on what it is that you need. If you do not know what it is that you need, then our work will focus on building awareness of what issues are negatively affecting your relationships, your work life, perhaps your family, or the quality of your life. I will work with you through a trauma informed lens and without judgement.', 'Our work together will always be collaborative and transparent. We will work on exploring the obstacles in your life holistically and without judgement. I will always check in with you and your comfort level as well. Together, we can go through the heavy backpack you have carried for a very long time. I look forward to hearing more of your story.', 'Creo firmemente que usted es experto de su propia vida y que siempre tiene las respuestas y soluciones. Sin embargo, a veces necesitemos ayuda para encontrar esas respuestas y soluciones para nosotros mismos. Mi objetivo como terapeuta es ser el puesto guía que pueda ayudarlo a encontrar sus respuestas, ayudarlo con las relaciones y brindarle las herramientas que necesita. Como terapeuta, me enfoco para que se sienta cómodo, seguro y escuchado. Me enfoco en validar sus experiencias, animándolo a expresar sus pensamientos y a reconocer qué es lo que quiere de su vida y lo que puede (o no) interponerse en su camino.', 'Nuestro trabajo juntos se basará en lo que necesita. Si no sabe qué es lo que necesita, entonces nuestro trabajo se centrará en crear conciencia sobre qué problemas están afectando negativamente sus relaciones, su vida laboral, tal vez su familia o la calidad de su vida. Trabajaré con usted a través de una lente informada sobre el trauma y sin juicio.', 'Nuestro trabajo siempre será colaborativo y transparente. Trabajaremos en explorar los obstáculos en su vida de manera holística y sin juicio. Siempre me pondré en contacto con usted y su nivel de comodidad también. Juntos, podemos pasar por la pesada mochila que ha llevado durante mucho tiempo. Espero escuchar más de su historia.']], [['Robert D Feragotti'], ['Have you asked yourself the question, when will I be happy? Are certain parts of your life not \"working\"? Do the pressures of daily life make it difficult to relax? Are healthy relationships something you yearn for? If so, counseling may be an option. I have successfully assisted many people with these and many other concerns. Are you living the life you\\'ve envisioned? I can assist you with your journey by exploring the parts that may be preventing forward movement and, in the process, open the door to resolution and personal growth. Your level of success is limitless.', 'My style of counseling is conversational, while my approach is practical, present focused and experiential. In my practice, I draw from a variety of treatment approaches individualized to the uniqueness of every person. I provide an atmosphere of acceptance and safety designed to encourage self-exploration and self-understanding.', 'With a focus on the here and now, I emphasize strengths, experience and courage while respecting your personal story. The focus is always on your best self. For a quicker response, initiate contact with an email. I look forward to hearing from you.']], [['Melissa Appleby'], ['I enjoy working with clients who are transitioning to the next stage of their lives or want to set new life/career goals. The next step could be transitioning from high school to college, beginning a new relationship, or a new career/job. I like to support the client with exploring these new goals, help build confidence/self-esteem to take those first steps towards them, and re-evaluate goals if necessary. I find that these transitions come with a lot of anxiety, depression, and other mental health issues that can hold clients back, which I like to explore, build solutions, and help them realize that goals are achievable.', 'I have worked with a wide range of clients of all ages, as well as individuals and families. I enjoy working with young adults transitioning to adulthood. I have experience working with depression, anxiety, relationship and family issues, parenting struggles, substance use disorders, self-harm, life transitions, ADHD and ODD, and self-esteem-related issues.', 'My counseling style is interactive, warm, and welcoming. My therapeutic approach includes cognitive-behavioral therapy, solution-focused therapy, and is client-centered. I also implement psychoeducation to offer continuous support, feedback, and focus on long-term maintenance. I am open to feedback and appreciate honesty within the therapeutic relations.']], [['Ry Keenan'], ['My ideal client is one who is looking to better connect with themselves and those around them. They may struggle with effective communication, or successfully navigating the complexity of a deep and meaningful relationship. Most of all my ideal client is one who is willing to be open and honest about their experiences and what they want out of life.', 'I use person centered therapy which focuses on helping the client to find the solutions to the issues they are facing. I have used this to help those suffering from addiction, anxiety, grief and loss, and numerous other issues. I also use cognitive processing therapy which is a 10-12 session long treatment process for PTSD.', 'I truly believe that each client knows what is best for them and how to resolve their struggles. It is my job to be companion and supporter while they look for the best version of themselves.']], [['Ashley Mudrinich'], ['Congratulations on taking the first step towards improving your mental health. It is often not easy navigating the stages of finding a therapist, and I applaud you for finding the strength to make the leap. I am here to make that leap as comfortable as possible, in a way that is most suitable to your needs. I am a person-centered, strength-based, and humanistic therapist. I look to help solidify what is good in a person and identify what can be modified in order to make someone feel more whole. My approach is warm, non-judgmental and genuine.', 'I use both dialectical (DBT) and cognitive behavioral therapies (CBT), with a strong trauma-informed background. I work with a variety of issues, including anxiety, depression, relationships, grief and loss, divorce, co-parenting, abuse, and addiction. My expertise also extends to how to manage diagnosed disorders such as PTSD and bipolar disorder.', 'I currently provide therapy by phone and video chat. I have early morning and after work hours available. At the present time, I am accepting Highmark insurance. I would also be happy to work with you on a sliding scale that suits your budget. I look forward to working with you and creating a custom treatment tailored to meet your mental health needs.']], [['Dr. Timothy Rothhaar'], ['I assist anyone looking for what they truly desire and want out of life, from traveling abroad to career changes.  My approach is welcome you as you are, where you are, and work out a plan to help you achieve your goals as quickly as possible.  I also welcome and assist students needing academic coaching, skill development, or a general sorting of things out.', 'As a life coach, I do not provide therapy explicitly, but utilize methods in emotional freedom technique (\"tapping\"), LEGO serious play, and positive psychology.  Thus, sessions tend to have a therapeutic effect.', 'I provide a free phone consultation to discuss your issues and concerns, as well as coaching for small businesses and teams.']], [['Robert M Schwartz'], [\"Are anxious or depressed feelings interfering with work and relationships?  Are marital or sexual problems getting you down?  If you are ready to transform your life, I can help.  For 40+ years, I've successfully used cognitive-dynamic therapy to guide people to practical strategies for solving problems and to explore their deeper conflicts.  Life is a dramatic journey and often a caring guide along the way is needed to find your optimal zone.  I specialize in anxiety and mood disorders, as well as sexual dysfunctions and sex addictions. I've recently written a book on a spiritual approach to weight loss.\", 'Based on my research on positive psychology,, I can help you learn if your \"mental temperature\" is dysfunctional and to transform it to an optimal zone.  I am a Sex Therapy Fellow and Supervisior, certified by the American Association of Sex Educators, Counselors and Therapists (AASECT).', 'After 40+ years of doing therapy, I continue to find deep pleasure helping people such as you to not only relieve suffering, but also to achieve better relationships and more positive moods. I combine scientific knowledge, traditional wisdom, and a touch of humor to help people transform. The best way to reach me is via email, but phone will work.']], [['Karen Kapsanis'], ['New clients welcome. Are you handling too much stress with too little support, hurting from a relationship, or struggling with painful life events? Talking to someone who listens deeply and without judging can help you find your path to feeling better. My approach to therapy is holistic and collaborative, with the aim of helping you deepen your self-understanding, increase your life satisfaction, and create meaningful change.', 'I provide individual psychotherapy for adults. I draw on Gestalt, person-centered, and psychodynamic (insight-oriented) approaches. If spirituality is part of your journey, I can offer spiritually-informed care.', 'I know it can be hard to ask for help. I offer a free consultation to give you a chance to see if we seem like a good fit.']], [['Carole Joan Honeychurch'], ['People seek therapy when they are in pain. This pain may show up as anxiety, depression, loneliness, compulsive behaviors, addiction or a combination of these. My job as your therapist is to meet you where you are and to understand your experience, your pain, and to help you move forward. The goal is to create a collaboration in which you have the support and safety to begin to challenge thoughts, beliefs, and behaviors that may be holding you back and causing suffering. I will guide you in this work with warmth, humor, respect, and acceptance.', 'I work with a variety of modalities, including psychodynamic, person-centered therapy and more symptom-focused modalities such as Cognitive Behavioral Therapy and Acceptance and Commitment Therapy. However, as with all therapies, it is the relationship we create that is most vital.', 'My office is on the second floor, but I do have access to a first-floor office if the stairs present a problem. In your initial visit we will talk about your goals and challenges and you can get a sense of how I work. I look forward to meeting you.']], [['Heather Beech'], ['Nothing changes if nothing changes… Many clients share in a first session they have delayed making an initial appointment for one reason or another. I encourage anyone continuing to delay this choice to reach out. Making the decision to move forward with therapy can be life changing. I invite you to start the process to take this journey to change and enhance your life.', 'I work with individuals to identify barriers to seeking a balanced and improved life. Together, we can work to overcome the common emotions of feeling helpless or stuck. We will work to empower you to take control of your life. Ultimately, this is a collaborative process, and growth is most notable when clients take control of their progress.', 'I understand it is not easy to ask for help and yet, it is necessary. Valuable therapy will depend your willingness to be vulnerable and seek motivation for change, which we can cultivate together. I will help you remain accountable for your role in the process. I encourage you to take the first step and start your journey today.']], [['Monica Waitkus'], ['I believe everyone can make positive changes in their life and therapy is a safe, supportive experience to help navigate through the change process.  I provide treatment that is tailored to your needs and is focused on promoting your unique strengths while also addressing any barriers to progress.  Whether dealing with a major life crisis or just wanting to improve the overall quality of your life or relationships, my focus is on helping you find the skills and strength to make meaningful change.  Emphasizing individual goals and personal autonomy, I create a therapeutic environment that is positive, open-minded and non-judgmental.', 'Depending on your personalized needs, I may incorporate the following treatment modalities into the therapeutic process: Cognitive Behavioral Therapy (CBT), Dialectical Behavior Therapy (DBT), Motivational Interviewing and Trauma Focused treatment. I also offer Parent-Child Interaction Therapy (PCIT) for children (2-12) exhibiting problematic behaviors.', 'With over ten years’ experience in community mental health, I work with adults with emotional and/or psychological issues. I focus on assisting individuals in developing skills to improve relationships, manage anger and stress, and regulate mood. I work with children exhibiting problematic behaviors or struggling with other concerns that impact development.']], [['Latasha Jefferson'], [\"My 1st purpose as your therapist is provide a non-judgmental, welcoming and comfortable environment to allow you to express yourself freely. As your therapist, I would like you to feel understood better than you have ever felt understood by another person before. You would be the leader of your sessions; this will allow us the opportunity to identify certain emotions, triggers and challenges to help process or work through these things on a much deeper level. Lets confront our past hurts and no longer allow them to dictate our present; I'm here to become the best possible version of yourself.\", 'I can help my clients by providing a client-center approach where the client is in the lead of their own sessions.  I advocate to improve the clients self-esteem and overall well-being.  I also advocate for holistic interventions.  These include, mindful meditation, yoga, and healthy diet ect.  However, I do realize that medication is needed at times as well', '']], [['Barbara Torango'], ['I have the utmost respect for the clients I see as active members of the therapeutic team. I believe that clients deserve trust, comfort, and support to fulfill their needs and personal goals. Clients should be able to bring up pressing issues and events and have their sessions prioritized accordingly. Because I am both an Art Therapist and a Licensed Professional Counselor, I offer options as to how clients can express themselves based on their comfort level, through talk therapy or through the art process. I make myself accessible through my schedule for critical situations. I offer evening appointments for your convenience.', 'I have over twenty five years of experience working with children, adolescents, adults, families, and groups. Treatment focus includes art therapy, grief therapy, AD/HD, anger management for children, children of separated/divorced parents, chemical dependency, victims of sexual abuse/trauma, traumatic brain injuries, PTSD, anxiety, depression, and other mood disorders.', 'Children respond extremely well to art therapy and therapeutic play. My experience has been that children love to attend sessions and look forward to them. This is a welcome relief to parents whom have had difficulty getting their resistant children to come to therapy.']]]\n"
     ]
    }
   ],
   "source": [
    "print(bio)"
   ]
  },
  {
   "cell_type": "code",
   "execution_count": 79,
   "id": "458b2b77",
   "metadata": {},
   "outputs": [
    {
     "ename": "IndexError",
     "evalue": "list index out of range",
     "output_type": "error",
     "traceback": [
      "\u001b[1;31m---------------------------------------------------------------------------\u001b[0m",
      "\u001b[1;31mIndexError\u001b[0m                                Traceback (most recent call last)",
      "\u001b[1;32m~\\AppData\\Local\\Temp\\ipykernel_20808\\3045981162.py\u001b[0m in \u001b[0;36m<module>\u001b[1;34m\u001b[0m\n\u001b[0;32m      1\u001b[0m \u001b[0mfinance_table\u001b[0m \u001b[1;33m=\u001b[0m \u001b[0msoup\u001b[0m\u001b[1;33m.\u001b[0m\u001b[0mfindAll\u001b[0m\u001b[1;33m(\u001b[0m\u001b[1;34m'div'\u001b[0m\u001b[1;33m,\u001b[0m \u001b[1;33m{\u001b[0m\u001b[1;34m'class'\u001b[0m\u001b[1;33m:\u001b[0m\u001b[1;34m'finances-office'\u001b[0m\u001b[1;33m}\u001b[0m\u001b[1;33m)\u001b[0m\u001b[1;33m\u001b[0m\u001b[1;33m\u001b[0m\u001b[0m\n\u001b[1;32m----> 2\u001b[1;33m \u001b[0mprint\u001b[0m\u001b[1;33m(\u001b[0m\u001b[0mfinance_table\u001b[0m\u001b[1;33m[\u001b[0m\u001b[1;36m0\u001b[0m\u001b[1;33m]\u001b[0m\u001b[1;33m)\u001b[0m\u001b[1;33m\u001b[0m\u001b[1;33m\u001b[0m\u001b[0m\n\u001b[0m",
      "\u001b[1;31mIndexError\u001b[0m: list index out of range"
     ]
    }
   ],
   "source": []
  },
  {
   "cell_type": "code",
   "execution_count": null,
   "id": "53047d09",
   "metadata": {},
   "outputs": [],
   "source": []
  }
 ],
 "metadata": {
  "kernelspec": {
   "display_name": "Python 3 (ipykernel)",
   "language": "python",
   "name": "python3"
  },
  "language_info": {
   "codemirror_mode": {
    "name": "ipython",
    "version": 3
   },
   "file_extension": ".py",
   "mimetype": "text/x-python",
   "name": "python",
   "nbconvert_exporter": "python",
   "pygments_lexer": "ipython3",
   "version": "3.9.13"
  }
 },
 "nbformat": 4,
 "nbformat_minor": 5
}
